{
 "cells": [
  {
   "cell_type": "code",
   "execution_count": 27,
   "metadata": {},
   "outputs": [],
   "source": [
    "import re\n",
    "import numpy as np\n",
    "from collections import Counter\n",
    "from tqdm import tqdm"
   ]
  },
  {
   "cell_type": "code",
   "execution_count": 289,
   "metadata": {},
   "outputs": [],
   "source": [
    "regex = \"[a-zA-ZçÇãÃõÕáÁéÉíÍóÓúÚâÂêÊîÎôÔûÛàÀ]+\"\n",
    "\n",
    "corpus = open(\"..\\data\\grande_sertao_veredas.txt\", encoding='UTF-8').read()\n",
    "\n",
    "tokens = re.findall(regex, corpus)\n",
    "\n",
    "tokens_count = Counter(tokens)"
   ]
  },
  {
   "cell_type": "markdown",
   "metadata": {},
   "source": [
    "##### Algoritmo\n",
    "\n",
    "- 1- Inicia-se com duas palavras aleatórias;\n",
    "- 2- Escolhe-se a próxima palavra de forma aleatória levando em consideração a distribuição de probabilidade;\n",
    "- 3- Continua o passo anterior até um critério de parada (word_count)."
   ]
  },
  {
   "cell_type": "code",
   "execution_count": 324,
   "metadata": {},
   "outputs": [],
   "source": [
    "\"\"\"\n",
    "def p_trigram(w1, w2, w3, tokens):\n",
    "    count_w1_w2 = 0\n",
    "    \n",
    "    for i in range(len(tokens) - 1):\n",
    "        if(tokens[i] == w1 and tokens[i+1] == w2):\n",
    "            count_w1_w2 += 1    \n",
    "\n",
    "    count_w1_w2_w3 = 0\n",
    "\n",
    "    for i in range(len(tokens) - 2):\n",
    "        if(tokens[i] == w1 and tokens[i+1] == w2 and tokens[i+2] == w3):\n",
    "            count_w1_w2_w3 += 1\n",
    "    \n",
    "    return (count_w1_w2_w3 / count_w1_w2) if (count_w1_w2 > 0) else 0\n",
    "\"\"\"\n",
    "def choose_next_word(second_last_word, last_word, tokens):\n",
    "    count_w1_w2 = Counter(zip(tokens, tokens[1:]))[(second_last_word, last_word)]\n",
    "    \n",
    "    if(count_w1_w2 == 0):\n",
    "        raise Exception(\"The bigram does not exist in the corpus\")\n",
    "    \n",
    "    trigrams = Counter(zip(tokens, tokens[1:], tokens[2:]))\n",
    "    \n",
    "    count_w1_w2_w3s = []\n",
    "    \n",
    "    for token in tokens:\n",
    "        count_w1_w2_w3s.append(trigrams[(second_last_word, last_word, token)])\n",
    "\n",
    "    trigram_probabilities = np.array(count_w1_w2_w3s) / count_w1_w2\n",
    "\n",
    "    set_words = []\n",
    "    for i in range(len(trigram_probabilities)):\n",
    "        # only non zero probabilities\n",
    "        if(trigram_probabilities[i] > 0):\n",
    "            set_words.append((trigram_probabilities[i], tokens[i]))\n",
    "\n",
    "    # make a set of words\n",
    "    set_words = set(set_words)\n",
    "\n",
    "    prob_words = [st[0] for st in set_words]\n",
    "    candidate_words = [st[1] for st in set_words]\n",
    "    \n",
    "    next_word = np.random.choice(candidate_words, 1, p=prob_words).item()\n",
    "\n",
    "    return next_word\n",
    "\n",
    "def generate_text(first_word, second_word, tokens, words_count = 10):\n",
    "\n",
    "    generated_text_str = f\"{first_word} {second_word}\"\n",
    "\n",
    "    for _ in range(0,words_count):\n",
    "        generated_word = choose_next_word(first_word, second_word, tokens)\n",
    "        first_word = second_word\n",
    "        second_word = generated_word\n",
    "\n",
    "        generated_text_str = generated_text_str + \" \" + generated_word\n",
    "\n",
    "    return generated_text_str\n"
   ]
  },
  {
   "cell_type": "code",
   "execution_count": 326,
   "metadata": {},
   "outputs": [
    {
     "data": {
      "text/plain": [
       "'hoje sei não estava pessoa nenhuma nem guarda mas o Hermógenes Mas perto duns cem Respirei a gente tinha baralhos se jogou rouba monte e escopa porque truque eu não tinha as orelhas do teu jumento Mas amuado eu João Guimarães Rosa Grande Sertão Veredas do Arrenegado a célebre aparição eu não'"
      ]
     },
     "execution_count": 326,
     "metadata": {},
     "output_type": "execute_result"
    }
   ],
   "source": [
    "generate_text(\"hoje\", \"sei\", tokens, words_count = 50)"
   ]
  }
 ],
 "metadata": {
  "kernelspec": {
   "display_name": "venv",
   "language": "python",
   "name": "python3"
  },
  "language_info": {
   "codemirror_mode": {
    "name": "ipython",
    "version": 3
   },
   "file_extension": ".py",
   "mimetype": "text/x-python",
   "name": "python",
   "nbconvert_exporter": "python",
   "pygments_lexer": "ipython3",
   "version": "3.10.10"
  }
 },
 "nbformat": 4,
 "nbformat_minor": 2
}
