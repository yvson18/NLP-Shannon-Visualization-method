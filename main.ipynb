{
 "cells": [
  {
   "cell_type": "code",
   "execution_count": 1,
   "metadata": {},
   "outputs": [],
   "source": [
    "import re\n",
    "from collections import Counter"
   ]
  },
  {
   "cell_type": "code",
   "execution_count": 6,
   "metadata": {},
   "outputs": [],
   "source": [
    "regex = \"[a-zA-ZçÇãÃõÕáÁéÉíÍóÓúÚâÂêÊîÎôÔûÛàÀ]+\"\n",
    "\n",
    "corpus = open(\"grande_sertao_veredas.txt\").read()\n",
    "\n",
    "tokens = re.findall(regex, corpus)\n",
    "\n",
    "tokens_count = Counter(tokens)"
   ]
  },
  {
   "cell_type": "markdown",
   "metadata": {},
   "source": [
    "Algoritmo\n",
    "\n",
    "- 1- inicia-se com um trigrama aleatório;\n",
    "- 2- Escolhe-se o próximo trigrama de forma aleatória de acordo com a probabilidade;\n",
    "- 3- Continua o passo anterior até um critério de parada."
   ]
  },
  {
   "cell_type": "code",
   "execution_count": 27,
   "metadata": {},
   "outputs": [],
   "source": [
    "def p_trigram(w1, w2, w3, tokens):\n",
    "    count_w1_w2 = 0\n",
    "    \n",
    "    for i in range(len(tokens) - 1):\n",
    "        if(tokens[i] == w1 and tokens[i+1] == w2):\n",
    "            count_w1_w2 += 1    \n",
    "\n",
    "    count_w1_w2_w3 = 0\n",
    "\n",
    "    for i in range(len(tokens) - 2):\n",
    "        if(tokens[i] == w1 and tokens[i+1] == w2 and tokens[i+2] == w3):\n",
    "            count_w1_w2_w3 += 1\n",
    "    \n",
    "    return (count_w1_w2_w3 / count_w1_w2) if (count_w1_w2 > 0) else 0"
   ]
  }
 ],
 "metadata": {
  "kernelspec": {
   "display_name": "venv",
   "language": "python",
   "name": "python3"
  },
  "language_info": {
   "codemirror_mode": {
    "name": "ipython",
    "version": 3
   },
   "file_extension": ".py",
   "mimetype": "text/x-python",
   "name": "python",
   "nbconvert_exporter": "python",
   "pygments_lexer": "ipython3",
   "version": "3.10.12"
  }
 },
 "nbformat": 4,
 "nbformat_minor": 2
}
